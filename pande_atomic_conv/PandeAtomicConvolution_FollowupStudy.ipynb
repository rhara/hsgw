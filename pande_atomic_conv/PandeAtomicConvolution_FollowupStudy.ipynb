{
 "cells": [
  {
   "cell_type": "markdown",
   "metadata": {},
   "source": [
    "## Pande Atomic Conv -- Not completed yet --"
   ]
  },
  {
   "cell_type": "code",
   "execution_count": null,
   "metadata": {},
   "outputs": [],
   "source": [
    "%load_ext autoreload\n",
    "%autoreload 2"
   ]
  },
  {
   "cell_type": "markdown",
   "metadata": {},
   "source": [
    "### Requires PandeAtomicConv.py"
   ]
  },
  {
   "cell_type": "code",
   "execution_count": null,
   "metadata": {},
   "outputs": [],
   "source": [
    "from PandeAtomicConv import Featurizer\n",
    "import numpy as np"
   ]
  },
  {
   "cell_type": "markdown",
   "metadata": {},
   "source": [
    "### Read mols\n",
    "\n",
    "using RDKit. Complex is combined from ligand and protein."
   ]
  },
  {
   "cell_type": "code",
   "execution_count": null,
   "metadata": {},
   "outputs": [],
   "source": [
    "from rdkit import Chem\n",
    "\n",
    "ligand_fname = 'data/1aaq_ligand.sdf'\n",
    "protein_fname = 'data/1aaq_protein.pdb'\n",
    "\n",
    "for mol_ligand in Chem.SDMolSupplier(ligand_fname): break\n",
    "mol_protein = Chem.MolFromPDBFile(protein_fname)\n",
    "mol_complex = Chem.CombineMols(mol_ligand, mol_protein)\n",
    "\n",
    "f'{mol_ligand.GetNumAtoms()}, {mol_protein.GetNumAtoms()}, {mol_complex.GetNumAtoms()}'"
   ]
  },
  {
   "cell_type": "markdown",
   "metadata": {},
   "source": [
    "### Setup featurizers\n",
    "\n",
    "Calculate neighbor list of size (N, M) (M=12 as the default) in each molecule"
   ]
  },
  {
   "cell_type": "code",
   "execution_count": null,
   "metadata": {},
   "outputs": [],
   "source": [
    "nmax_ligand = 70\n",
    "nmax_protein = 12000\n",
    "nmax_complex = nmax_ligand + nmax_protein\n",
    "\n",
    "featurizer_L = Featurizer(mol_ligand, M=12)\n",
    "featurizer_P = Featurizer(mol_protein, M=12)\n",
    "featurizer_C = Featurizer(mol_complex, M=12)"
   ]
  },
  {
   "cell_type": "markdown",
   "metadata": {},
   "source": [
    "### Calculate convolution\n",
    "\n",
    "Calculate R (neighbored distance matrix), Z (neighbored atom types) and E (atomic convolution). E is padded to the given size."
   ]
  },
  {
   "cell_type": "code",
   "execution_count": null,
   "metadata": {},
   "outputs": [],
   "source": [
    "featurizer_L.setConvolution(padding=nmax_ligand)\n",
    "featurizer_P.setConvolution(padding=nmax_protein)\n",
    "featurizer_C.setConvolution(padding=nmax_complex)\n",
    "\n",
    "f'Atomic convolution E.shape: L:{featurizer_L.E.shape}, P:{featurizer_P.E.shape}, C:{featurizer_C.E.shape}'"
   ]
  },
  {
   "cell_type": "markdown",
   "metadata": {},
   "source": [
    "### Radial pooling layer\n",
    "\n",
    "Calculate P (Radial pooling layer). radials are given as [1.5, 12.0] step 0.5. $r_s=1.5, \\sigma_s = 1.0$ are scalar constants. $\\beta_{n_r}$ (scaling) and $b_{n_r}$ (bias) are given as all 1.0 and all 0.0 respectively. These must be elucidated anyway."
   ]
  },
  {
   "cell_type": "code",
   "execution_count": null,
   "metadata": {},
   "outputs": [],
   "source": [
    "radials = np.arange(1.5, 12.+1e-7, .5)\n",
    "radials"
   ]
  },
  {
   "cell_type": "code",
   "execution_count": null,
   "metadata": {},
   "outputs": [],
   "source": [
    "r_s, sigma_s = 1.5, 1.\n",
    "beta = [1.]*len(radials)\n",
    "bias = [0.]*len(radials)\n",
    "\n",
    "featurizer_L.setRadialLayer(beta=beta, bias=bias, r_s=r_s, sigma_s=sigma_s, radials=radials)\n",
    "featurizer_P.setRadialLayer(beta=beta, bias=bias, r_s=r_s, sigma_s=sigma_s, radials=radials)\n",
    "featurizer_C.setRadialLayer(beta=beta, bias=bias, r_s=r_s, sigma_s=sigma_s, radials=radials)\n",
    "\n",
    "f'Radial pooling layer P.shape: L:{featurizer_L.P.shape}, P:{featurizer_P.P.shape}, C:{featurizer_C.P.shape}'"
   ]
  },
  {
   "cell_type": "code",
   "execution_count": null,
   "metadata": {},
   "outputs": [],
   "source": []
  }
 ],
 "metadata": {
  "kernelspec": {
   "display_name": "Python 3",
   "language": "python",
   "name": "python3"
  },
  "language_info": {
   "codemirror_mode": {
    "name": "ipython",
    "version": 3
   },
   "file_extension": ".py",
   "mimetype": "text/x-python",
   "name": "python",
   "nbconvert_exporter": "python",
   "pygments_lexer": "ipython3",
   "version": "3.6.8"
  }
 },
 "nbformat": 4,
 "nbformat_minor": 2
}
